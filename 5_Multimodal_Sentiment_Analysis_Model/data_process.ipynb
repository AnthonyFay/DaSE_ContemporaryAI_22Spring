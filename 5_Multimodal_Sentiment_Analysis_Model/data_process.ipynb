{
 "cells": [
  {
   "cell_type": "code",
   "execution_count": 17,
   "outputs": [],
   "source": [
    "import json\n",
    "\n",
    "import chardet\n",
    "import pandas as pd"
   ],
   "metadata": {
    "collapsed": false,
    "pycharm": {
     "name": "#%%\n"
    }
   }
  },
  {
   "cell_type": "code",
   "execution_count": 18,
   "outputs": [],
   "source": [
    "train_dataset = []\n",
    "dev_dataset = []\n",
    "test_dataset = []\n",
    "\n",
    "train_index_label = pd.read_csv(\"dataset/train.txt\")\n",
    "test_index_label = pd.read_csv(\"dataset/test_without_label.txt\").values\n",
    "train_count = dict(train_index_label[\"tag\"].value_counts() * 0.8 // 1)\n",
    "\n",
    "train_neg = train_index_label.loc[train_index_label[\"tag\"] == \"negative\"].sample(n=int(train_count[\"negative\"])).values\n",
    "train_pos = train_index_label.loc[train_index_label[\"tag\"] == \"positive\"].sample(n=int(train_count[\"positive\"])).values\n",
    "train_neu = train_index_label.loc[train_index_label[\"tag\"] == \"neutral\"].sample(n=int(train_count[\"neutral\"])).values\n",
    "dev_neg = train_index_label[~train_index_label[\"guid\"].isin(train_neg[:, 0])].loc[\n",
    "    train_index_label[\"tag\"] == \"negative\"].values\n",
    "dev_pos = train_index_label[~train_index_label[\"guid\"].isin(train_pos[:, 0])].loc[\n",
    "    train_index_label[\"tag\"] == \"positive\"].values\n",
    "dev_neu = train_index_label[~train_index_label[\"guid\"].isin(train_neu[:, 0])].loc[\n",
    "    train_index_label[\"tag\"] == \"neutral\"].values"
   ],
   "metadata": {
    "collapsed": false,
    "pycharm": {
     "name": "#%%\n"
    }
   }
  },
  {
   "cell_type": "code",
   "execution_count": 19,
   "outputs": [],
   "source": [
    "def add2dataset(data, dataset):\n",
    "    for i in range(data.shape[0]):\n",
    "        guid = str(int(data[i, 0]))\n",
    "        with open(\"dataset/data/\" + guid + \".txt\", \"rb\") as f:\n",
    "            encoding = chardet.detect(f.read())[\"encoding\"]\n",
    "        if encoding == \"GB2312\":\n",
    "            encoding = \"GBK\"\n",
    "\n",
    "        with open(\"dataset/data/\" + guid + \".txt\", encoding=encoding) as f:\n",
    "            dataset.append({\n",
    "                \"text\": f.read().rstrip(\"\\n\"),\n",
    "                \"label\": (data[i, 1] if data[0, 1] != \"NaN\" else None),\n",
    "                \"img\": \"dataset/data/\" + guid + \".jpg\"\n",
    "            })\n",
    "    return dataset\n",
    "\n",
    "\n",
    "train_dataset = add2dataset(train_neg, train_dataset)\n",
    "train_dataset = add2dataset(train_pos, train_dataset)\n",
    "train_dataset = add2dataset(train_neu, train_dataset)\n",
    "\n",
    "dev_dataset = add2dataset(dev_neg, dev_dataset)\n",
    "dev_dataset = add2dataset(dev_pos, dev_dataset)\n",
    "dev_dataset = add2dataset(dev_neu, dev_dataset)\n",
    "\n",
    "test_dataset = add2dataset(test_index_label, test_dataset)\n",
    "\n",
    "with open(\"dataset/train.json\", \"w\", encoding=\"utf-8\") as f:\n",
    "    json.dump(train_dataset, f)\n",
    "\n",
    "with open(\"dataset/dev.json\", \"w\", encoding=\"utf-8\") as f:\n",
    "    json.dump(dev_dataset, f)\n",
    "\n",
    "with open(\"dataset/test.json\", \"w\", encoding=\"utf-8\") as f:\n",
    "    json.dump(test_dataset, f)"
   ],
   "metadata": {
    "collapsed": false,
    "pycharm": {
     "name": "#%%\n"
    }
   }
  },
  {
   "cell_type": "code",
   "execution_count": null,
   "outputs": [],
   "source": [],
   "metadata": {
    "collapsed": false,
    "pycharm": {
     "name": "#%%\n"
    }
   }
  }
 ],
 "metadata": {
  "kernelspec": {
   "display_name": "Python 3",
   "language": "python",
   "name": "python3"
  },
  "language_info": {
   "codemirror_mode": {
    "name": "ipython",
    "version": 2
   },
   "file_extension": ".py",
   "mimetype": "text/x-python",
   "name": "python",
   "nbconvert_exporter": "python",
   "pygments_lexer": "ipython2",
   "version": "2.7.6"
  }
 },
 "nbformat": 4,
 "nbformat_minor": 0
}